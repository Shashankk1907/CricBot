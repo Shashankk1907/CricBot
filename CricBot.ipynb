{
  "cells": [
    {
      "cell_type": "markdown",
      "source": [
        "# Installing required liabraries"
      ],
      "metadata": {
        "id": "nqLzLbzapHJK"
      }
    },
    {
      "cell_type": "code",
      "source": [
        "\n",
        "!pip install -q langchain langchain-community chromadb tiktoken python-dotenv openai pandas\n"
      ],
      "metadata": {
        "id": "Ou0LI6khcvRC"
      },
      "execution_count": 18,
      "outputs": []
    },
    {
      "cell_type": "markdown",
      "source": [
        "# Importing modules and LLM model"
      ],
      "metadata": {
        "id": "LjqvhGpdpQ2f"
      }
    },
    {
      "cell_type": "code",
      "source": [
        "import pandas as pd\n",
        "from langchain.schema import Document\n",
        "from langchain.text_splitter import RecursiveCharacterTextSplitter\n",
        "from langchain_community.embeddings import HuggingFaceEmbeddings\n",
        "from langchain_community.vectorstores import Chroma\n",
        "from langchain_openai import ChatOpenAI\n",
        "from langchain_core.prompts import ChatPromptTemplate\n",
        "from langchain_core.runnables import RunnablePassthrough\n",
        "from langchain_core.output_parsers import StrOutputParser\n",
        "\n",
        "# Config\n",
        "OPENROUTER_API_KEY = \"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\"  # your OpenRouter API key\n",
        "OPENROUTER_MODEL = \"nvidia/llama-3.1-nemotron-ultra-253b-v1:free\"  # or another\n"
      ],
      "metadata": {
        "id": "IbHr938bcw2U"
      },
      "execution_count": 19,
      "outputs": []
    },
    {
      "cell_type": "markdown",
      "source": [
        "# Loading and Processing Data\n"
      ],
      "metadata": {
        "id": "8wEm_EfBpavS"
      }
    },
    {
      "cell_type": "code",
      "source": [
        "def load_and_process_data_from_csv():\n",
        "    documents = []\n",
        "\n",
        "    # 1. Player Info\n",
        "    player_df = pd.read_csv('player_info.csv')\n",
        "    for _, row in player_df.iterrows():\n",
        "        content = f\"{row['name']} ({row['team']}): {row['playingRole']} | Batting: {row['battingStyle']} | Bowling: {row['bowlingStyle']}\"\n",
        "        metadata = {\n",
        "            \"type\": \"player\",\n",
        "            \"name\": row['name'],\n",
        "            \"team\": row['team'],\n",
        "            \"role\": row['playingRole']\n",
        "        }\n",
        "        documents.append(Document(page_content=content, metadata=metadata))\n",
        "\n",
        "    # 2. Batting Summary\n",
        "    batting_df = pd.read_csv('batting_summary.csv')\n",
        "    for _, row in batting_df.iterrows():\n",
        "        opponent = row['match'].split('Vs ')[1]\n",
        "        content = f\"{row['batsmanName']} scored {row['runs']} runs ({row['balls']} balls, SR: {row['SR']}) for {row['teamInnings']} vs {opponent}\"\n",
        "        metadata = {\n",
        "            \"type\": \"batting\",\n",
        "            \"player\": row['batsmanName'],\n",
        "            \"match\": row['match'],\n",
        "            \"runs\": int(row['runs']),\n",
        "            \"team\": row['teamInnings']\n",
        "        }\n",
        "        documents.append(Document(page_content=content, metadata=metadata))\n",
        "\n",
        "    # 3. Bowling Summary\n",
        "    bowling_df = pd.read_csv('bowling_summary.csv')\n",
        "    for _, row in bowling_df.iterrows():\n",
        "        opponent = row['match'].split('Vs ')[1]\n",
        "        content = f\"{row['bowlerName']} took {row['wickets']} wickets for {row['runs']} runs ({row['overs']} overs) for {row['bowlingTeam']} vs {opponent}\"\n",
        "        metadata = {\n",
        "            \"type\": \"bowling\",\n",
        "            \"player\": row['bowlerName'],\n",
        "            \"match\": row['match'],\n",
        "            \"wickets\": int(row['wickets']),\n",
        "            \"economy\": float(row['economy']),\n",
        "            \"team\": row['bowlingTeam']\n",
        "        }\n",
        "        documents.append(Document(page_content=content, metadata=metadata))\n",
        "\n",
        "    # 4. Match Results\n",
        "    results_df = pd.read_csv('match_results.csv')\n",
        "    for _, row in results_df.iterrows():\n",
        "        content = f\"{row['team1']} vs {row['team2']}: {row['winner']} won by {row['margin']} on {row['matchDate']} at {row['ground']}\"\n",
        "        metadata = {\n",
        "            \"type\": \"match\",\n",
        "            \"team1\": row['team1'],\n",
        "            \"team2\": row['team2'],\n",
        "            \"winner\": row['winner'],\n",
        "            \"date\": row['matchDate'],\n",
        "            \"ground\": row['ground']\n",
        "        }\n",
        "        documents.append(Document(page_content=content, metadata=metadata))\n",
        "\n",
        "    return documents\n"
      ],
      "metadata": {
        "id": "iIPd5wW2c5aQ"
      },
      "execution_count": 22,
      "outputs": []
    },
    {
      "cell_type": "markdown",
      "source": [
        "#Prepare and Vectorize Documents"
      ],
      "metadata": {
        "id": "feaMzghEpiKl"
      }
    },
    {
      "cell_type": "code",
      "source": [
        "# Load & split\n",
        "documents = load_and_process_data_from_csv()\n",
        "text_splitter = RecursiveCharacterTextSplitter(chunk_size=1000, chunk_overlap=100)\n",
        "splits = text_splitter.split_documents(documents)\n",
        "\n",
        "# Create embeddings\n",
        "embeddings = HuggingFaceEmbeddings(model_name=\"sentence-transformers/all-MiniLM-L6-v2\")\n",
        "\n",
        "# Store in Chroma\n",
        "vectorstore = Chroma.from_documents(\n",
        "    documents=splits,\n",
        "    embedding=embeddings,\n",
        "    persist_directory=\"./t20_wc_db\"\n",
        ")\n"
      ],
      "metadata": {
        "id": "6BuWZyANdYb7"
      },
      "execution_count": 23,
      "outputs": []
    },
    {
      "cell_type": "markdown",
      "source": [
        "#Retriever"
      ],
      "metadata": {
        "id": "7MHJ-hIqqIRL"
      }
    },
    {
      "cell_type": "code",
      "source": [
        "retriever = vectorstore.as_retriever(\n",
        "    search_type=\"mmr\",\n",
        "    search_kwargs={\"k\": 50}\n",
        ")\n"
      ],
      "metadata": {
        "id": "5pejwv6hdsjv"
      },
      "execution_count": 32,
      "outputs": []
    },
    {
      "cell_type": "markdown",
      "source": [
        "# Prompting and RAG CHAIN"
      ],
      "metadata": {
        "id": "3zph-l6NqNL_"
      }
    },
    {
      "cell_type": "code",
      "source": [
        "llm = ChatOpenAI(\n",
        "    model_name=OPENROUTER_MODEL,\n",
        "    temperature=0.3,\n",
        "    max_tokens=1000,\n",
        "    api_key=OPENROUTER_API_KEY,\n",
        "    base_url=\"https://openrouter.ai/api/v1\"\n",
        ")\n",
        "\n",
        "prompt = ChatPromptTemplate.from_template(\n",
        "    \"\"\"You are a cricket expert analyzing the 2022 T20 World Cup.\n",
        "Use only the context below to answer:\n",
        "\n",
        "{context}\n",
        "\n",
        "Question: {question}\n",
        "\n",
        "Answer with these rules:\n",
        "1. Be specific with numbers (e.g., \"scored 82 runs in 53 balls\")\n",
        "2. Mention teams and dates when available, if not available, say \"not mentioned\"\n",
        "3. If unsure, say \"I couldn't find that in the tournament data\"\n",
        "4. For player comparisons, show stats side-by-side\"\"\"\n",
        ")\n",
        "\n",
        "# Final RAG Chain\n",
        "rag_chain = (\n",
        "    {\"context\": retriever, \"question\": RunnablePassthrough()}\n",
        "    | prompt\n",
        "    | llm\n",
        "    | StrOutputParser()\n",
        ")\n"
      ],
      "metadata": {
        "id": "tZNSu63udyXm"
      },
      "execution_count": 33,
      "outputs": []
    },
    {
      "cell_type": "markdown",
      "source": [
        "# ChatBot"
      ],
      "metadata": {
        "id": "4scUwYkhqRyA"
      }
    },
    {
      "cell_type": "code",
      "source": [
        "def chat():\n",
        "    print(\"🏏 T20 World Cup 2022 Chatbot (type 'quit' to exit)\\n\")\n",
        "    while True:\n",
        "        try:\n",
        "            user_input = input(\"Your question: \")\n",
        "            if user_input.lower() == 'quit':\n",
        "                break\n",
        "            response = rag_chain.invoke(user_input)\n",
        "            print(f\"\\nBot: {response}\\n\")\n",
        "        except Exception as e:\n",
        "            print(f\"Error: {str(e)}\")\n",
        "\n",
        "chat()\n"
      ],
      "metadata": {
        "colab": {
          "base_uri": "https://localhost:8080/"
        },
        "id": "x8P4Akxjd09w",
        "outputId": "8223228c-a93a-48d2-d5b5-ddfcffdb1dc7"
      },
      "execution_count": 35,
      "outputs": [
        {
          "name": "stdout",
          "output_type": "stream",
          "text": [
            "🏏 T20 World Cup 2022 Chatbot (type 'quit' to exit)\n",
            "\n",
            "Your question: how many matches india won in the tournamnent\n",
            "\n",
            "Bot: Based on the provided context, India won the following matches in the 2022 T20 World Cup:\n",
            "\n",
            "1. **India vs Pakistan** on **Oct 23, 2022** (won by 4 wickets)\n",
            "2. **India vs Netherlands** on **Oct 27, 2022** (won by 56 runs)\n",
            "3. **Bangladesh vs India** on **Nov 2, 2022** (won by 5 runs)\n",
            "4. **India vs Zimbabwe** on **Nov 6, 2022** (won by 71 runs)\n",
            "\n",
            "**Total matches won by India: 4**\n",
            "\n",
            "Your question: how much virat scored in each match\n",
            "\n",
            "Bot: Based on the provided context, here's how much Virat Kohli scored in each match:\n",
            "\n",
            "1. **India vs Bangladesh**: Scored 64 runs in 44 balls (SR: 145.45), Team: India, Date: Not mentioned\n",
            "2. **India vs Zimbabwe**: Scored 26 runs in 25 balls (SR: 104.00), Team: India, Date: Not mentioned\n",
            "3. **Pakistan vs India**: Scored 82 runs in 53 balls (SR: 154.71), Team: India, Date: Not mentioned\n",
            "4. **India vs South Africa**: Scored 12 runs in 11 balls (SR: 109.09), Team: India, Date: Not mentioned\n",
            "5. **India vs Netherlands**: Scored 62 runs in 44 balls (SR: 140.90), Team: India, Date: Not mentioned\n",
            "6. **India vs England**: Scored 50 runs in 40 balls (SR: 125.00), Team: India, Date: Not mentioned\n",
            "\n",
            "Note: The date for each match is not mentioned in the provided context.\n",
            "\n",
            "Your question: who won Australia vs England\n",
            "\n",
            "Bot: The match between Australia and England was abandoned, with no winner declared. The match took place on October 28, 2022, at Melbourne.\n",
            "\n",
            "Your question: who won Bangladesh vs South Africa\n",
            "\n",
            "Bot: Based on the provided context, the answer to the question \"who won Bangladesh vs South Africa\" is:\n",
            "\n",
            "South Africa won by 104 runs against Bangladesh on Oct 27, 2022, at Sydney. \n",
            "\n",
            "This information is found in the first document of the context, which explicitly states the match result, date, and ground. \n",
            "\n",
            "**Answer Details:**\n",
            "- **Winner:** South Africa\n",
            "- **Margin:** 104 runs\n",
            "- **Teams:** Bangladesh vs South Africa\n",
            "- **Date:** Oct 27, 2022\n",
            "- **Ground:** Sydney\n",
            "\n",
            "Your question: which matches took place on Sydney\n",
            "\n",
            "Bot: Based on the provided context, the matches that took place in Sydney are:\n",
            "\n",
            "1. **Australia vs New Zealand** - October 22, 2022 (New Zealand won by 89 runs)\n",
            "2. **Bangladesh vs South Africa** - October 27, 2022 (South Africa won by 104 runs)\n",
            "3. **New Zealand vs Sri Lanka** - October 29, 2022 (New Zealand won by 65 runs)\n",
            "4. **New Zealand vs Pakistan** - November 9, 2022 (Pakistan won by 7 wickets)\n",
            "\n",
            "These are the matches where the ground is explicitly mentioned as \"Sydney\" in the metadata.\n",
            "\n",
            "Your question: quit\n"
          ]
        }
      ]
    }
  ],
  "metadata": {
    "colab": {
      "provenance": []
    },
    "kernelspec": {
      "display_name": "Python 3",
      "name": "python3"
    },
    "language_info": {
      "name": "python"
    }
  },
  "nbformat": 4,
  "nbformat_minor": 0
}